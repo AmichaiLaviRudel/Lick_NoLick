{
 "cells": [
  {
   "cell_type": "code",
   "execution_count": null,
   "metadata": {
    "collapsed": true,
    "pycharm": {
     "name": "#%%\n",
     "is_executing": true
    }
   },
   "outputs": [],
   "source": [
    "import numpy as np\n",
    "import matplotlib.pyplot as plt\n",
    "import pandas as pd\n",
    "import cv2\n",
    "import scipy.io as spio\n",
    "import os\n",
    "import re\n",
    "from sklearn.decomposition import PCA\n",
    "from sklearn.model_selection import train_test_split\n",
    "from sklearn.preprocessing import StandardScaler\n",
    "from sklearn.metrics import accuracy_score, confusion_matrix, ConfusionMatrixDisplay\n",
    "from sklearn import svm\n",
    "\n",
    "import matplotlib\n",
    "\n",
    "matplotlib.use('TkAgg')\n",
    "import matplotlib.pyplot as plt"
   ]
  },
  {
   "cell_type": "code",
   "execution_count": 38,
   "outputs": [],
   "source": [
    "# Create features data frame for a specific subject\n",
    "\n",
    "from tkinter import Tk, filedialog\n",
    "import glob\n",
    "\n",
    "root = Tk()  # pointing root to Tk() to use it as Tk() in program.\n",
    "root.withdraw()  # Hides small tkinter window.\n",
    "root.attributes('-topmost', True)  # Opened windows will be active. above all windows despite selection.\n",
    "path = filedialog.askdirectory()  # Returns opened path as str\n",
    "\n"
   ],
   "metadata": {
    "collapsed": false,
    "pycharm": {
     "name": "#%%\n"
    }
   }
  },
  {
   "cell_type": "code",
   "execution_count": 39,
   "outputs": [],
   "source": [
    "# Choose a folder\n",
    "dir = glob.glob(os.path.join(path, \"*\", \"\"), recursive=True)"
   ],
   "metadata": {
    "collapsed": false,
    "pycharm": {
     "name": "#%%\n"
    }
   }
  },
  {
   "cell_type": "code",
   "execution_count": 40,
   "outputs": [],
   "source": [
    "\n",
    "def get_Features(dir, i):\n",
    "    movs = glob.glob(os.path.join(dir[i] + \"/*.avi\"))\n",
    "    vidcap = cv2.VideoCapture(movs[0])\n",
    "    success, image = vidcap.read()\n",
    "    print(\"Able to read movie?: \" + str(success))\n",
    "    fps = vidcap.get(cv2.CAP_PROP_FPS)\n",
    "    frame_count = int(vidcap.get(cv2.CAP_PROP_FRAME_COUNT))\n",
    "    duration = frame_count / fps\n",
    "\n",
    "    # load facial points\n",
    "    dfh5_file = glob.glob(os.path.join(dir[i] + \"/*30000.h5\"))\n",
    "    dfh5 = pd.read_hdf(dfh5_file[0])\n",
    "\n",
    "    # Clac Center of mass\n",
    "    row = dfh5.iloc[[2]]\n",
    "    row = np.squeeze(row.to_numpy())\n",
    "    nose = row[:2]\n",
    "    ear = row[12:14]\n",
    "    center_of_mass = np.mean([nose, ear], axis=0)\n",
    "\n",
    "    # Subtract CoM\n",
    "    dfh5.iloc[:, [0, 3, 6, 9, 12]] -= center_of_mass[0]\n",
    "    dfh5.iloc[:, [1, 4, 7, 10, 13]] -= center_of_mass[1]\n",
    "\n",
    "    # convert to np\n",
    "    pos_df = dfh5.iloc[1:, [0, 1, 3, 4, 6, 7, 9, 10, 12, 13]]\n",
    "\n",
    "    pos_df.to_csv(os.path.join(dir[i] + \"out.csv\"))\n",
    "    pos = pos_df.to_numpy()\n",
    "\n",
    "    # pupil\n",
    "    dfh5_pupil_file = glob.glob(os.path.join(dir[i] + \"/*70000.h5\"))\n",
    "    if dfh5_pupil_file:\n",
    "        dfh5_pupil = pd.read_hdf(dfh5_pupil_file[0])\n",
    "        dfh5_pupil.shape\n",
    "\n",
    "        dist = lambda x, y: np.linalg.norm(x - y)\n",
    "\n",
    "        pupil = dfh5_pupil.iloc[1:, [0, 1, 3, 4, 6, 7, 9, 10]]\n",
    "        pupil = pupil.to_numpy()\n",
    "\n",
    "        # i_up = pupil[:, 0:2] |  i_down = pupil[:, 2:4]  |  i_right = pupil[:, 4:6] |  i_left = pupil[:, 6:8]\n",
    "        dist_hor = list(map(dist, pupil[:, 0:2], pupil[:, 4:6]))\n",
    "        dist_ver = list(map(dist, pupil[:, 4:6], pupil[:, 6:8]))\n",
    "\n",
    "        pos_n_pupil = np.c_[pos, dist_hor, dist_ver]\n",
    "\n",
    "\n",
    "    else:\n",
    "        print(\"--The mouse have no pupil file\")\n",
    "        pos_n_pupil = pos\n",
    "\n",
    "    return pos_n_pupil, pos_df, fps\n"
   ],
   "metadata": {
    "collapsed": false,
    "pycharm": {
     "name": "#%%\n"
    }
   }
  },
  {
   "cell_type": "code",
   "execution_count": 41,
   "outputs": [],
   "source": [
    "def getData(dir, before_q, after_q, add_prev_q=False):\n",
    "    df = pd.DataFrame(\n",
    "        columns=['Name', 'Task Level', 'Lick Rate [%]', 'True Positive', 'False Positive', 'Total Accuracy', 'Features',\n",
    "                 'Labels'])\n",
    "\n",
    "    for i in range(dir.__len__()):\n",
    "        print(\"\\nMouse \" + str(i + 1))\n",
    "        print(dir[i])\n",
    "        print(\"------------------\")\n",
    "\n",
    "        file = os.path.normpath(dir[i]).split(os.path.sep)\n",
    "\n",
    "        pos_n_pupil, pos_df, fps = get_Features(dir, i)\n",
    "        if pos_n_pupil.shape[1] < 11:\n",
    "            print(\"**SKIP**\\n\")\n",
    "            continue\n",
    "        # run matlab code if necessary (\"Z:\\Shared\\Amichai\\importfile.m\")\n",
    "\n",
    "        # get session data\n",
    "        data = spio.loadmat(os.path.join(dir[i] + 'data.mat'))\n",
    "\n",
    "        correction = pos_n_pupil.shape[0] / ((data['time'].shape[1] / data['Fs']) * fps)\n",
    "\n",
    "        tSOS_new = data['tSOS'] * correction\n",
    "        Lick_times_new = np.ravel(data['Lick_times'] * correction + (\n",
    "                tSOS_new[0] - np.minimum(data['Go_times'][0, 0], data['NoGo_times'][0, 0])))\n",
    "\n",
    "        stimuli = np.ravel(np.sort(np.c_[data['Go_times'], data['NoGo_times']]))\n",
    "        stimuli_type = np.in1d(stimuli, data['Go_times'])\n",
    "\n",
    "        if len(stimuli) != len(tSOS_new):\n",
    "            print(\"--Can't label the cue type\\n **SKIP** \\n \")\n",
    "            continue\n",
    "\n",
    "        # movie interpolation\n",
    "        r = pd.RangeIndex(0, int((data['time'].shape[1] / data['Fs']) * fps), 1)\n",
    "        t = pos_df\n",
    "        t = t.sort_index()\n",
    "        new_idx = np.linspace(t.index[0], len(r), len(r))\n",
    "        t = (t.reindex(new_idx, method='ffill', limit=1).iloc[1:].interpolate())\n",
    "\n",
    "        pos_n_pupil = t.to_numpy()\n",
    "\n",
    "        # segment to trails\n",
    "        Lick_times = Lick_times_new * fps\n",
    "        for idx, seg in enumerate(tSOS_new * fps):\n",
    "            segment = pos_n_pupil[int(seg - before_q * fps):int(seg), :].reshape(\n",
    "                [int(before_q * fps) * pos_n_pupil.shape[1]])\n",
    "            lick_seg = np.any(\n",
    "                np.ravel(np.where((Lick_times > seg) & (Lick_times < seg + after_q * fps))))\n",
    "\n",
    "            if idx == 0:\n",
    "\n",
    "                prv_lick = np.array([0])  # previous segment lick choice as a feature\n",
    "                x = np.r_[segment, prv_lick]\n",
    "\n",
    "                y = lick_seg\n",
    "\n",
    "\n",
    "            else:\n",
    "                y = np.row_stack((y, lick_seg))\n",
    "                prv_lick = y[-2]  # previous lick choice\n",
    "                segment = np.r_[segment, prv_lick]\n",
    "                x = np.row_stack((x, segment))\n",
    "\n",
    "        lick_bias = y.sum() / y.shape[0]\n",
    "\n",
    "        if lick_bias < 0.20 or lick_bias > 0.80:\n",
    "            print(\"**Biased Licker**\")\n",
    "            continue\n",
    "        level = np.full_like(y, re.findall(\"[he]\", file[-1]))\n",
    "        print(level[0])\n",
    "        name = np.full_like(y, i)\n",
    "        print(name[0])\n",
    "        # concat this mouse data to the others\n",
    "        # create empty arrays\n",
    "        if i == 0:\n",
    "            X = x\n",
    "            y_tot = y\n",
    "            stimuli_tot = stimuli_type\n",
    "            level_tot = level\n",
    "            name_tot = name\n",
    "\n",
    "\n",
    "\n",
    "        else:\n",
    "            X = np.concatenate((X, x), axis=0)\n",
    "\n",
    "            y_tot = np.concatenate((y_tot, y), axis=0)\n",
    "            stimuli_tot = np.concatenate((stimuli_tot, stimuli_type), axis=0)\n",
    "            level_tot = np.concatenate((level_tot, level), axis=0)\n",
    "            name_tot = np.concatenate((name_tot, name), axis=0)\n",
    "\n",
    "        TP = len(data['Reward_times'][0]) / len(data['Go_times'][0])\n",
    "        try: FP = len(data['Punishment_times'][0]) / len(data['NoGo_times'][0])\n",
    "        except: FP = 0\n",
    "        TN = 1 - FP\n",
    "        FN = 1 - TP\n",
    "        Acc = (TP + TN) / (TP + TN + FP + FN)\n",
    "\n",
    "        mouse = pd.DataFrame({\n",
    "            'Name': re.findall(\"A.._\", file[-1]),\n",
    "            'Task Level': re.findall(\"[he]\", file[-1]),\n",
    "            'Lick Rate [%]': lick_bias * 100,\n",
    "            'True Positive': TP,\n",
    "            'False Positive': FP,\n",
    "            'Total Accuracy': Acc,\n",
    "            'Features': [x],\n",
    "            'Labels': [y]}, )\n",
    "        df = pd.concat([df, mouse], ignore_index=True)\n",
    "    return X, np.ravel(y_tot), np.ravel(stimuli_tot), df\n"
   ],
   "metadata": {
    "collapsed": false,
    "pycharm": {
     "name": "#%%\n"
    }
   }
  },
  {
   "cell_type": "code",
   "execution_count": 43,
   "outputs": [
    {
     "name": "stdout",
     "output_type": "stream",
     "text": [
      "missing pupil:\n",
      "missing pos:\n"
     ]
    }
   ],
   "source": [
    "\n",
    "\n",
    "print(\"missing pupil:\")\n",
    "for i in range(dir.__len__()):\n",
    "    file_name = glob.glob(os.path.join(dir[i] + \"/*70000.h5\"))\n",
    "    if file_name == []:\n",
    "        print(dir[i])\n",
    "\n",
    "print(\"missing pos:\")\n",
    "for i in range(dir.__len__()):\n",
    "    file_name = glob.glob(os.path.join(dir[i] + \"/*30000.h5\"))\n",
    "    if file_name == []:\n",
    "        print(dir[i])\n"
   ],
   "metadata": {
    "collapsed": false,
    "pycharm": {
     "name": "#%%\n"
    }
   }
  },
  {
   "cell_type": "code",
   "execution_count": 44,
   "outputs": [],
   "source": [
    "# Run again?\n",
    "run_again = False\n",
    "##########################################################################\n",
    "\n",
    "os.chdir(path)\n",
    "if run_again:\n",
    "    # Get the data and save it\n",
    "    X, y, stimuli_type, mice_data = getData(dir=dir, before_q=0.5, after_q=2)\n",
    "\n",
    "    mice_data.to_pickle('./Mice_Data.pkl')\n",
    "    np.savez('./Features_n_label', X=X, y=y, stimuli_type=stimuli_type)\n",
    "\n",
    "else:\n",
    "    # try to read data, if not exist run the whole session\n",
    "    try:\n",
    "        mice_data = pd.read_pickle('Mice_Data.pkl')\n",
    "        data = np.load('Features_n_label.npz')\n",
    "        X = data['X']\n",
    "        y = data['y']\n",
    "        stimuli_type = data['stimuli_type']\n",
    "\n",
    "    except:\n",
    "        X, y, stimuli_type, mice_data = getData(dir=dir, before_q=0.5, after_q=2)\n",
    "        mice_data.to_pickle('./Mice_Data.pkl')\n",
    "        np.savez('./Features_n_label', X=X, y=y, stimuli_type=stimuli_type)\n"
   ],
   "metadata": {
    "collapsed": false,
    "pycharm": {
     "name": "#%%\n"
    }
   }
  },
  {
   "cell_type": "code",
   "execution_count": 45,
   "outputs": [],
   "source": [
    "add_prev_q = True\n",
    "add_q = False\n",
    "add_answer = False\n",
    "\n",
    "\n",
    "# Add the cue type\n",
    "if add_prev_q:\n",
    "    x = X\n",
    "else:\n",
    "    x = X[:, :-1]\n",
    "\n",
    "if add_q:\n",
    "    x = np.c_[x, stimuli_type]\n",
    "\n",
    "# Add the answer\n",
    "if add_answer:\n",
    "    x = np.c_[x, y]\n"
   ],
   "metadata": {
    "collapsed": false,
    "pycharm": {
     "name": "#%%\n"
    }
   }
  },
  {
   "cell_type": "code",
   "execution_count": 46,
   "outputs": [
    {
     "name": "stdout",
     "output_type": "stream",
     "text": [
      "Train accuracy: 0.64 || STD: 0.006\n",
      "Test accuracy: 0.55 || STD: 0.02\n",
      "---------------------------------------\n",
      "Lick Events: ~51% || No-lick Events: ~49%\n"
     ]
    }
   ],
   "source": [
    "K = 1000\n",
    "acc = np.zeros([K, 2])\n",
    "\n",
    "for k in range(K):\n",
    "    print(str(k) + \"/\" + str(K), end=\"\\r\")\n",
    "    # Split the data\n",
    "    X_train, X_test, y_train, y_test = train_test_split(x, y, test_size=0.2, shuffle=True)\n",
    "\n",
    "    # Feature Scaling\n",
    "    sc = StandardScaler()\n",
    "    X_train = sc.fit_transform(X_train)\n",
    "    X_test = sc.transform(X_test)\n",
    "\n",
    "    # Training and Making Predictions\n",
    "    # classifier = GaussianNB()\n",
    "    classifier = svm.SVC(kernel='rbf')\n",
    "    # classifier = RandomForestClassifier(max_depth=2, random_state=0)\n",
    "\n",
    "    classifier.fit(X_train, y_train)\n",
    "\n",
    "    y_pred = classifier.predict(X_test)\n",
    "    acc[k, 0] = accuracy_score(y_test, y_pred)\n",
    "    train_pred = classifier.predict(X_train)\n",
    "    acc[k, 1] = accuracy_score(y_train, train_pred)\n",
    "\n",
    "# Evaluating the Performance\n",
    "print('Train accuracy: ' + str(round(np.mean(acc[:, 1]), 2)) + ' || STD: ' + str(round(np.std(acc[:, 1]), 3)))\n",
    "print('Test accuracy: ' + str(round(np.mean(acc[:, 0]), 2)) + ' || STD: ' + str(round(np.std(acc[:, 0]), 2)))\n",
    "\n",
    "lick_bias = y.sum() / y.shape[0] * 100\n",
    "\n",
    "print(\n",
    "    \"---------------------------------------\\nLick Events: ~\" + str(round(lick_bias)) + \"% || No-lick Events: ~\" + str(\n",
    "        round(100 - lick_bias)) + \"%\")\n",
    "\n",
    "cm = confusion_matrix(y_test, y_pred)\n",
    "cm_display = ConfusionMatrixDisplay.from_predictions(y_test, y_pred, cmap='Greys')\n"
   ],
   "metadata": {
    "collapsed": false,
    "pycharm": {
     "name": "#%%\n"
    }
   }
  }
 ],
 "metadata": {
  "kernelspec": {
   "display_name": "Python 3",
   "language": "python",
   "name": "python3"
  },
  "language_info": {
   "codemirror_mode": {
    "name": "ipython",
    "version": 2
   },
   "file_extension": ".py",
   "mimetype": "text/x-python",
   "name": "python",
   "nbconvert_exporter": "python",
   "pygments_lexer": "ipython2",
   "version": "2.7.6"
  }
 },
 "nbformat": 4,
 "nbformat_minor": 0
}