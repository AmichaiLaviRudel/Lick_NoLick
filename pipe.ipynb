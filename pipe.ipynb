{
 "cells": [
  {
   "cell_type": "code",
   "execution_count": 1,
   "metadata": {
    "collapsed": true,
    "pycharm": {
     "name": "#%%\n"
    }
   },
   "outputs": [],
   "source": [
    "import numpy as np\n",
    "import matplotlib.pyplot as plt\n",
    "import pandas as pd\n",
    "import cv2\n",
    "import scipy.io as spio\n",
    "import os\n",
    "from sklearn.naive_bayes import GaussianNB\n",
    "from sklearn.svm import SVC\n",
    "from sklearn.model_selection import ShuffleSplit, learning_curve\n",
    "from sklearn.decomposition import PCA\n",
    "from sklearn.model_selection import train_test_split\n",
    "from sklearn.preprocessing import StandardScaler\n",
    "from sklearn.ensemble import RandomForestClassifier\n",
    "from sklearn.metrics import accuracy_score\n"
   ]
  },
  {
   "cell_type": "code",
   "execution_count": 4,
   "outputs": [],
   "source": [
    "# Create features data frame for a specific subject\n",
    "\n",
    "from tkinter import Tk, filedialog\n",
    "import glob\n",
    "root = Tk() # pointing root to Tk() to use it as Tk() in program.\n",
    "root.withdraw() # Hides small tkinter window.\n",
    "root.attributes('-topmost', True) # Opened windows will be active. above all windows despite of selection.\n",
    "path = filedialog.askdirectory() # Returns opened path as str\n",
    "\n"
   ],
   "metadata": {
    "collapsed": false,
    "pycharm": {
     "name": "#%%\n"
    }
   }
  },
  {
   "cell_type": "code",
   "execution_count": 5,
   "outputs": [],
   "source": [
    "\n",
    "# Choose a folder\n",
    "dir =  glob.glob(os.path.join(path, \"*\", \"\"), recursive = True)"
   ],
   "metadata": {
    "collapsed": false,
    "pycharm": {
     "name": "#%%\n"
    }
   }
  },
  {
   "cell_type": "code",
   "execution_count": 17,
   "outputs": [],
   "source": [
    "def getData(dir, before_q=2):\n",
    "    # create empty arrays\n",
    "    X = np.empty((1, 60, 10))\n",
    "    y_tot = np.array([])\n",
    "    stimuli_tot = np.array([])\n",
    "\n",
    "    for i in range(dir.__len__()):\n",
    "\n",
    "        movs = glob.glob(os.path.join(dir[i] + \"/*.avi\"))\n",
    "        dfh5_file = glob.glob(os.path.join(dir[i] + \"/*30000.h5\"))\n",
    "        vidcap = cv2.VideoCapture(movs[0])\n",
    "        success, image = vidcap.read()\n",
    "        print(success)\n",
    "        fps = vidcap.get(cv2.CAP_PROP_FPS)\n",
    "        frame_count = int(vidcap.get(cv2.CAP_PROP_FRAME_COUNT))\n",
    "        duration = frame_count / fps\n",
    "\n",
    "        # load facial points\n",
    "        dfh5 = pd.read_hdf(dfh5_file[0])\n",
    "\n",
    "        # Clac Center of mass\n",
    "        row = dfh5.iloc[[2]]\n",
    "        row = np.squeeze(row.to_numpy())\n",
    "        nose = row[:2]\n",
    "        ear = row[12:14]\n",
    "        center_of_mass = np.mean([nose, ear], axis=0)\n",
    "\n",
    "        # Subtract CoM\n",
    "        dfh5.iloc[:, [0, 3, 6, 9, 12]] -= center_of_mass[0]\n",
    "        dfh5.iloc[:, [1, 4, 7, 10, 13]] -= center_of_mass[1]\n",
    "\n",
    "        # convert to np\n",
    "        pos_df = dfh5.iloc[1:, [0, 1, 3, 4, 6, 7, 9, 10, 12, 13]]\n",
    "        pos = pos_df.to_numpy()\n",
    "\n",
    "        # pupil\n",
    "        dfh5_pupil_file = glob.glob(os.path.join(dir[i] + \"/*40000.h5\"))\n",
    "        if dfh5_pupil_file:\n",
    "            dfh5_pupil = pd.read_hdf(dfh5_pupil_file)\n",
    "\n",
    "            dist = lambda x, y: np.linalg.norm(x - y)\n",
    "\n",
    "            pupil = dfh5_pupil.iloc[1:, [0, 1, 3, 4, 6, 7, 9, 10, 12, 13]]\n",
    "            pupil = pupil.to_numpy()\n",
    "\n",
    "            # i_up = pupil[:, 0:2] |  i_down = pupil[:, 2:4]  |  i_right = pupil[:, 4:6] |  i_left = pupil[:, 6:8]\n",
    "            dist_hor = list(map(dist, pupil[:, 0:2], pupil[:, 4:6]))\n",
    "            dist_ver = list(map(dist, pupil[:, 4:6], pupil[:, 6:8]))\n",
    "            pos_n_pupil = np.concatenate((pos, dist_hor, dist_ver), axis=1)\n",
    "\n",
    "\n",
    "        else:\n",
    "            print(\"Mouse\" + str(i) + \": no pupil file\")\n",
    "            pos_n_pupil = pos\n",
    "\n",
    "        # get session data\n",
    "        data = spio.loadmat(os.path.join(dir[i] + 'data.mat'))\n",
    "        stimuli = np.sort(np.append(data['Go_times'], data['NoGo_times']))\n",
    "\n",
    "        # Go = True, NoGo = False\n",
    "        stimuli_type = np.r_[np.in1d(stimuli, data['Go_times']), False]\n",
    "\n",
    "        # convert to the right timescale\n",
    "        stimuli_time = stimuli * fps\n",
    "\n",
    "        # Correct the times (for this specific subject)\n",
    "        a = np.zeros([np.abs(int((np.max(data['Time']) - duration) * fps)), pos_n_pupil.shape[1]])\n",
    "        pos_n_pupil = np.concatenate((a, pos_n_pupil), axis=0)\n",
    "\n",
    "        # divide into segments according to stimulus\n",
    "        seg_data = np.split(pos_n_pupil, (stimuli_time.astype(int)))\n",
    "\n",
    "        # take relevant times\n",
    "        rel_time = int(before_q * fps)  # 2 sec\n",
    "        allow_licking = int(2 * fps)  # 2 sec\n",
    "\n",
    "        # count for licks\n",
    "        for j in range(len(stimuli) + 1):\n",
    "            seg_data[j] = seg_data[j][-rel_time:, :]\n",
    "\n",
    "        # after extracting relevant time bins convert to array\n",
    "        seg_data = np.array(seg_data)\n",
    "\n",
    "        # Get licks in time\n",
    "        lick_seg = np.zeros(len(stimuli) + 1)\n",
    "        t = np.arange(int(np.max(data['Time']) * fps))\n",
    "        seg_t = np.split(t, (stimuli_time.astype(int)))\n",
    "\n",
    "        h = 0\n",
    "\n",
    "        for tLick in np.ravel(data['Lick_times'] * fps):\n",
    "\n",
    "            if (h < len(stimuli_time)) and (tLick > stimuli_time[h]):\n",
    "                h += 1\n",
    "\n",
    "            if np.isin(int(tLick), seg_t[h][:allow_licking]):\n",
    "                lick_seg[h] += 1\n",
    "\n",
    "        # labeling\n",
    "        y = np.where(lick_seg > 0, 1, 0)\n",
    "\n",
    "\n",
    "        if i == 0:\n",
    "            mice = pd.DataFrame({\n",
    "                \"name\": np.array(movs),  # mouse name\n",
    "                \"fps\": fps,  # movie frame per second\n",
    "                \"duration\": duration,  # movie duration\n",
    "                \"recording time\": np.max(data['Time']),  # session duration\n",
    "                \"raw_X\": [pos_n_pupil],  # raw features\n",
    "                \"X\": [seg_data],  # features segmented to trails\n",
    "                \"y\": [lick_seg],  # did the mouse lick\n",
    "                \"stimuli_type\": [stimuli_type],\n",
    "                \"raw_data\": [data],\n",
    "                \"raw_face_pos\": [dfh5]})\n",
    "        else:\n",
    "            mouse = pd.DataFrame({\n",
    "                \"name\": np.array(movs),  # mouse name\n",
    "                \"fps\": fps,  # movie frame per second\n",
    "                \"duration\": duration,  # movie duration\n",
    "                \"recording time\": np.max(data['Time']),  # session duration\n",
    "                \"raw_X\": [pos_n_pupil],  # raw features\n",
    "                \"X\": [seg_data],  # features segmented to trails\n",
    "                \"y\": [lick_seg],  # did the mouse lick\n",
    "                \"stimuli_type\": [stimuli_type],\n",
    "                \"raw_data\": [data],\n",
    "                \"raw_face_pos\": [dfh5]})\n",
    "\n",
    "            mice = pd.concat([mice, mouse], ignore_index=True, axis=0)\n",
    "\n",
    "        # concat this mouse data to the others\n",
    "        X = np.concatenate((X, seg_data), axis=0)\n",
    "        y_tot = np.concatenate((y_tot, y), axis=0)\n",
    "        stimuli_tot = np.concatenate((stimuli_tot, stimuli_type), axis=0)\n",
    "\n",
    "\n",
    "    # Delete unnecessary first raw\n",
    "    X = np.delete(X, obj=0, axis=0)\n",
    "\n",
    "    return mice, X, y_tot, stimuli_tot\n"
   ],
   "metadata": {
    "collapsed": false,
    "pycharm": {
     "name": "#%%\n"
    }
   }
  },
  {
   "cell_type": "code",
   "execution_count": 18,
   "outputs": [
    {
     "name": "stdout",
     "output_type": "stream",
     "text": [
      "True\n",
      "Mouse0: no pupil file\n",
      "True\n",
      "Mouse1: no pupil file\n",
      "True\n",
      "Mouse2: no pupil file\n",
      "True\n",
      "Mouse3: no pupil file\n",
      "True\n",
      "Mouse4: no pupil file\n",
      "True\n",
      "Mouse5: no pupil file\n",
      "True\n",
      "Mouse6: no pupil file\n",
      "True\n",
      "Mouse7: no pupil file\n"
     ]
    }
   ],
   "source": [
    "before_q = 2\n",
    "Mice, X, y, stimuli_type = getData(dir, before_q=2)"
   ],
   "metadata": {
    "collapsed": false,
    "pycharm": {
     "name": "#%%\n"
    }
   }
  },
  {
   "cell_type": "code",
   "execution_count": 23,
   "outputs": [],
   "source": [
    "# smoothing\n",
    "from scipy.signal import savgol_filter, filtfilt, ellip\n",
    "b, a = ellip(4, 0.01, 120, 0.125)  # Filter to be applied.\n",
    "\n",
    "X_hat = np.zeros_like(X)\n",
    "for i in range(X.shape[2]):\n",
    "    X_hat[:,i] = filtfilt(b, a,X[:,i], method=\"gust\")"
   ],
   "metadata": {
    "collapsed": false,
    "pycharm": {
     "name": "#%%\n"
    }
   }
  },
  {
   "cell_type": "code",
   "execution_count": 24,
   "outputs": [
    {
     "ename": "ValueError",
     "evalue": "all the input array dimensions for the concatenation axis must match exactly, but along dimension 0, the array at index 0 has size 480 and the array at index 1 has size 125",
     "output_type": "error",
     "traceback": [
      "\u001B[1;31m---------------------------------------------------------------------------\u001B[0m",
      "\u001B[1;31mValueError\u001B[0m                                Traceback (most recent call last)",
      "Input \u001B[1;32mIn [24]\u001B[0m, in \u001B[0;36m<cell line: 5>\u001B[1;34m()\u001B[0m\n\u001B[0;32m      2\u001B[0m X \u001B[38;5;241m=\u001B[39m np\u001B[38;5;241m.\u001B[39mreshape(X_hat, [X_hat\u001B[38;5;241m.\u001B[39mshape[\u001B[38;5;241m0\u001B[39m], X_hat\u001B[38;5;241m.\u001B[39mshape[\u001B[38;5;241m1\u001B[39m]\u001B[38;5;241m*\u001B[39mX_hat\u001B[38;5;241m.\u001B[39mshape[\u001B[38;5;241m2\u001B[39m]])\n\u001B[0;32m      4\u001B[0m \u001B[38;5;66;03m# add the stimuli sounds\u001B[39;00m\n\u001B[1;32m----> 5\u001B[0m X \u001B[38;5;241m=\u001B[39m \u001B[43mnp\u001B[49m\u001B[38;5;241;43m.\u001B[39;49m\u001B[43mc_\u001B[49m\u001B[43m[\u001B[49m\u001B[43mX\u001B[49m\u001B[43m,\u001B[49m\u001B[43m \u001B[49m\u001B[43mstimuli_type\u001B[49m\u001B[38;5;241;43m.\u001B[39;49m\u001B[43mT\u001B[49m\u001B[43m]\u001B[49m\n",
      "File \u001B[1;32m~\\PycharmProjects\\pythonProject\\venv\\lib\\site-packages\\numpy\\lib\\index_tricks.py:412\u001B[0m, in \u001B[0;36mAxisConcatenator.__getitem__\u001B[1;34m(self, key)\u001B[0m\n\u001B[0;32m    409\u001B[0m     \u001B[38;5;28;01mfor\u001B[39;00m k \u001B[38;5;129;01min\u001B[39;00m scalars:\n\u001B[0;32m    410\u001B[0m         objs[k] \u001B[38;5;241m=\u001B[39m objs[k]\u001B[38;5;241m.\u001B[39mastype(final_dtype)\n\u001B[1;32m--> 412\u001B[0m res \u001B[38;5;241m=\u001B[39m \u001B[38;5;28;43mself\u001B[39;49m\u001B[38;5;241;43m.\u001B[39;49m\u001B[43mconcatenate\u001B[49m\u001B[43m(\u001B[49m\u001B[38;5;28;43mtuple\u001B[39;49m\u001B[43m(\u001B[49m\u001B[43mobjs\u001B[49m\u001B[43m)\u001B[49m\u001B[43m,\u001B[49m\u001B[43m \u001B[49m\u001B[43maxis\u001B[49m\u001B[38;5;241;43m=\u001B[39;49m\u001B[43maxis\u001B[49m\u001B[43m)\u001B[49m\n\u001B[0;32m    414\u001B[0m \u001B[38;5;28;01mif\u001B[39;00m matrix:\n\u001B[0;32m    415\u001B[0m     oldndim \u001B[38;5;241m=\u001B[39m res\u001B[38;5;241m.\u001B[39mndim\n",
      "File \u001B[1;32m<__array_function__ internals>:180\u001B[0m, in \u001B[0;36mconcatenate\u001B[1;34m(*args, **kwargs)\u001B[0m\n",
      "\u001B[1;31mValueError\u001B[0m: all the input array dimensions for the concatenation axis must match exactly, but along dimension 0, the array at index 0 has size 480 and the array at index 1 has size 125"
     ]
    }
   ],
   "source": [
    "# Train a model\n",
    "X = np.reshape(X_hat, [X_hat.shape[0], X_hat.shape[1]*X_hat.shape[2]])\n",
    "\n",
    "# add the stimuli sounds\n",
    "X = np.c_[X, stimuli_type.T]\n",
    "\n",
    "# # exclod zeros for this mouse\n",
    "# X = X[5:, :]\n",
    "# y = y[5:]\n"
   ],
   "metadata": {
    "collapsed": false,
    "pycharm": {
     "name": "#%%\n"
    }
   }
  },
  {
   "cell_type": "code",
   "execution_count": null,
   "outputs": [],
   "source": [
    "K = 150\n",
    "from sklearn import svm\n",
    "\n",
    "acc = np.zeros([K,2])\n",
    "for k in range(K):\n",
    "\n",
    "    # Split the data\n",
    "    X_train, X_test, y_train, y_test = train_test_split(X, y, test_size=0.2, shuffle=True)\n",
    "\n",
    "    # Feature Scaling\n",
    "    sc = StandardScaler()\n",
    "    X_train = sc.fit_transform(X_train)\n",
    "    X_test = sc.transform(X_test)\n",
    "\n",
    "    # pca = PCA(n_components=10)\n",
    "    # pca.fit_transform(X_train, y_train)\n",
    "    # pca.fit(X_test)\n",
    "\n",
    "\n",
    "    # Training and Making Predictions\n",
    "    # classifier = GaussianNB()\n",
    "    classifier = svm.SVC()\n",
    "    # classifier = RandomForestClassifier(max_depth=2, random_state=0)\n",
    "\n",
    "\n",
    "    classifier.fit(X_train, y_train)\n",
    "\n",
    "    y_pred = classifier.predict(X_test)\n",
    "    acc[k,0] = accuracy_score(y_test, y_pred)\n",
    "    train_pred = classifier.predict(X_train)\n",
    "    acc[k,1] = accuracy_score(y_train, train_pred)\n",
    "\n",
    "\n",
    "# Evaluating the Performance\n",
    "print('Test accuracy: ' + str(np.mean(acc[:, 0])) + ' || STD: ' + str(np.std(acc[:, 0])))\n",
    "print('Train accuracy: ' + str(np.mean(acc[:, 1])) + ' || STD: ' + str(np.std(acc[:, 1])))\n"
   ],
   "metadata": {
    "collapsed": false,
    "pycharm": {
     "name": "#%%\n"
    }
   }
  }
 ],
 "metadata": {
  "kernelspec": {
   "display_name": "Python 3",
   "language": "python",
   "name": "python3"
  },
  "language_info": {
   "codemirror_mode": {
    "name": "ipython",
    "version": 2
   },
   "file_extension": ".py",
   "mimetype": "text/x-python",
   "name": "python",
   "nbconvert_exporter": "python",
   "pygments_lexer": "ipython2",
   "version": "2.7.6"
  }
 },
 "nbformat": 4,
 "nbformat_minor": 0
}