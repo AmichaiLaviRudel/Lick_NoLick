{
 "cells": [
  {
   "cell_type": "code",
   "execution_count": 16,
   "metadata": {
    "collapsed": true,
    "pycharm": {
     "name": "#%%\n"
    }
   },
   "outputs": [],
   "source": [
    "import numpy as np\n",
    "import matplotlib.pyplot as plt\n",
    "import pandas as pd\n",
    "import cv2\n",
    "import scipy.io as spio\n",
    "import os\n",
    "from sklearn.decomposition import PCA\n",
    "from sklearn.model_selection import train_test_split\n",
    "from sklearn.preprocessing import StandardScaler\n",
    "from sklearn.metrics import accuracy_score, confusion_matrix, ConfusionMatrixDisplay\n",
    "from sklearn import svm\n",
    "\n",
    "import matplotlib\n",
    "matplotlib.use('TkAgg')\n",
    "import matplotlib.pyplot as plt"
   ]
  },
  {
   "cell_type": "code",
   "execution_count": 17,
   "outputs": [],
   "source": [
    "# Create features data frame for a specific subject\n",
    "\n",
    "from tkinter import Tk, filedialog\n",
    "import glob\n",
    "\n",
    "root = Tk()  # pointing root to Tk() to use it as Tk() in program.\n",
    "root.withdraw()  # Hides small tkinter window.\n",
    "root.attributes('-topmost', True)  # Opened windows will be active. above all windows despite selection.\n",
    "path = filedialog.askdirectory()  # Returns opened path as str\n",
    "\n"
   ],
   "metadata": {
    "collapsed": false,
    "pycharm": {
     "name": "#%%\n"
    }
   }
  },
  {
   "cell_type": "code",
   "execution_count": 18,
   "outputs": [],
   "source": [
    "# Choose a folder\n",
    "dir = glob.glob(os.path.join(path, \"*\", \"\"), recursive=True)"
   ],
   "metadata": {
    "collapsed": false,
    "pycharm": {
     "name": "#%%\n"
    }
   }
  },
  {
   "cell_type": "code",
   "execution_count": 51,
   "outputs": [],
   "source": [
    "\n",
    "def get_Features(dir, i):\n",
    "    movs = glob.glob(os.path.join(dir[i] + \"/*.avi\"))\n",
    "    dfh5_file = glob.glob(os.path.join(dir[i] + \"/*30000.h5\"))\n",
    "    vidcap = cv2.VideoCapture(movs[0])\n",
    "    success, image = vidcap.read()\n",
    "    print(\"Able to read movie?: \" + str(success))\n",
    "    fps = vidcap.get(cv2.CAP_PROP_FPS)\n",
    "    frame_count = int(vidcap.get(cv2.CAP_PROP_FRAME_COUNT))\n",
    "    duration = frame_count / fps\n",
    "\n",
    "    # load facial points\n",
    "    dfh5 = pd.read_hdf(dfh5_file[0])\n",
    "\n",
    "    # Clac Center of mass\n",
    "    row = dfh5.iloc[[2]]\n",
    "    row = np.squeeze(row.to_numpy())\n",
    "    nose = row[:2]\n",
    "    ear = row[12:14]\n",
    "    center_of_mass = np.mean([nose, ear], axis=0)\n",
    "\n",
    "    # Subtract CoM\n",
    "    dfh5.iloc[:, [0, 3, 6, 9, 12]] -= center_of_mass[0]\n",
    "    dfh5.iloc[:, [1, 4, 7, 10, 13]] -= center_of_mass[1]\n",
    "\n",
    "    # convert to np\n",
    "    pos_df = dfh5.iloc[1:, [0, 1, 3, 4, 6, 7, 9, 10, 12, 13]]\n",
    "\n",
    "    pos_df.to_csv(os.path.join(dir[i] + \"out.csv\"))\n",
    "    pos = pos_df.to_numpy()\n",
    "\n",
    "    # pupil\n",
    "    dfh5_pupil_file = glob.glob(os.path.join(dir[i] + \"/*40000.h5\"))\n",
    "    if dfh5_pupil_file:\n",
    "        dfh5_pupil = pd.read_hdf(dfh5_pupil_file)\n",
    "\n",
    "        dist = lambda x, y: np.linalg.norm(x - y)\n",
    "\n",
    "        pupil = dfh5_pupil.iloc[1:, [0, 1, 3, 4, 6, 7, 9, 10, 12, 13]]\n",
    "        pupil = pupil.to_numpy()\n",
    "\n",
    "        # i_up = pupil[:, 0:2] |  i_down = pupil[:, 2:4]  |  i_right = pupil[:, 4:6] |  i_left = pupil[:, 6:8]\n",
    "        dist_hor = list(map(dist, pupil[:, 0:2], pupil[:, 4:6]))\n",
    "        dist_ver = list(map(dist, pupil[:, 4:6], pupil[:, 6:8]))\n",
    "        pos_n_pupil = np.concatenate((pos, dist_hor, dist_ver), axis=1)\n",
    "\n",
    "\n",
    "    else:\n",
    "        print(\"The mouse have no pupil file\")\n",
    "        pos_n_pupil = pos\n",
    "\n",
    "    return pos_n_pupil, pos_df, fps\n",
    "\n",
    "\n",
    "def getData(dir, before_q, after_q):\n",
    "    for i in range(dir.__len__()):\n",
    "        print(\"Mouse \" + str(i + 1))\n",
    "        print(\"------------------\")\n",
    "\n",
    "        pos_n_pupil, pos_df, fps = get_Features(dir, i)\n",
    "\n",
    "        # run matlab code if necessary\n",
    "\n",
    "        # get session data\n",
    "        data = spio.loadmat(os.path.join(dir[i] + 'data.mat'))\n",
    "\n",
    "        correction = pos_n_pupil.shape[0] / ((data['time'].shape[1] / data['Fs']) * fps)\n",
    "\n",
    "        tSOS_new = data['tSOS'] * correction\n",
    "        Lick_times_new = np.ravel(data['Lick_times'] * correction + (\n",
    "                tSOS_new[0] - np.minimum(data['Go_times'][0, 0], data['NoGo_times'][0, 0])))\n",
    "\n",
    "        stimuli = np.ravel(np.sort(np.c_[data['Go_times'], data['NoGo_times']]))\n",
    "        stimuli_type = np.in1d(stimuli, data['Go_times'])\n",
    "\n",
    "        if len(stimuli) != len(tSOS_new):\n",
    "            print(\"--Can't label the cue type\\n **SKIP** \\n \")\n",
    "            continue\n",
    "\n",
    "        # movie interpolation\n",
    "        r = pd.RangeIndex(0, int((data['time'].shape[1] / data['Fs']) * fps), 1)\n",
    "        t = pos_df\n",
    "        t = t.sort_index()\n",
    "        new_idx = np.linspace(t.index[0], len(r), len(r))\n",
    "        t = (t.reindex(new_idx, method='ffill', limit=1).iloc[1:].interpolate())\n",
    "\n",
    "        pos_n_pupil = t.to_numpy()\n",
    "\n",
    "        # segment to trails\n",
    "        Lick_times = Lick_times_new * fps\n",
    "        for idx, seg in enumerate(tSOS_new * fps):\n",
    "            segment = pos_n_pupil[int(seg - before_q * fps):int(seg), :].reshape(\n",
    "                [int(before_q * fps) * pos_n_pupil.shape[1]])\n",
    "            lick_seg = np.any(\n",
    "                np.ravel(np.where((Lick_times > seg) & (Lick_times < seg + after_q * fps))))\n",
    "            # seg_mean = np.mean(pos_n_pupil[int(seg - before_q * fps):int(seg), :], axis=0)\n",
    "            # seg_var = np.var(pos_n_pupil[int(seg - before_q * fps):int(seg), :], axis=0)\n",
    "            # segment = np.r_[segment, seg_mean, seg_var]\n",
    "\n",
    "            if idx == 0:\n",
    "                prv_lick = np.array([0])  # previous segment lick choice as a feature\n",
    "                x = np.r_[segment, prv_lick]\n",
    "                y = lick_seg\n",
    "\n",
    "\n",
    "            else:\n",
    "                y = np.row_stack((y, lick_seg))\n",
    "                prv_lick = y[-2] # previous lick choice\n",
    "                segment = np.r_[segment, prv_lick]\n",
    "                x = np.row_stack((x, segment))\n",
    "\n",
    "        lick_bias =  y.sum() / y.shape[0]\n",
    "\n",
    "        if lick_bias < 0.25 or lick_bias > 0.75:\n",
    "            print(\"**biased licker**\")\n",
    "            continue\n",
    "\n",
    "        # concat this mouse data to the others\n",
    "        # create empty arrays\n",
    "        if i == 0:\n",
    "            X = x\n",
    "            y_tot = y\n",
    "            stimuli_tot = stimuli_type\n",
    "\n",
    "\n",
    "\n",
    "        else:\n",
    "            X = np.concatenate((X, x), axis=0)\n",
    "\n",
    "            y_tot = np.concatenate((y_tot, y), axis=0)\n",
    "            stimuli_tot = np.concatenate((stimuli_tot, stimuli_type), axis=0)\n",
    "\n",
    "        TP = len(data['Reward_times'][0]) / len(data['Go_times'][0])\n",
    "        FP = len(data['Punishment_times'][0]) / len(data['NoGo_times'][0])\n",
    "        TN = 1 - FP\n",
    "        FN = 1 - TP\n",
    "\n",
    "        #\n",
    "        # print(\"Number of licks events (groundTrues): \" + str(\n",
    "        #     len(data['Punishment_times'][0]) + len(data['Reward_times'][0])))\n",
    "        # print(\"Number of licks events (algo): \" + str(y.sum()))\n",
    "        print(\"Rate of licks: ~\" + str(round(100 * y.sum() / y.shape[0])) + \"%\")\n",
    "        print(\"True Positive: \" + str(TP))\n",
    "        print(\"False Positive: \" + str(FP))\n",
    "        print(\"Mouse Total Accuracy: \" + str((TP + TN) / (TP + TN + FP + FN)))\n",
    "        print(\"\")\n",
    "\n",
    "    return X, np.ravel(y_tot), np.ravel(stimuli_tot)\n"
   ],
   "metadata": {
    "collapsed": false,
    "pycharm": {
     "name": "#%%\n"
    }
   }
  },
  {
   "cell_type": "code",
   "execution_count": 52,
   "outputs": [
    {
     "name": "stdout",
     "output_type": "stream",
     "text": [
      "Mouse 1\n",
      "------------------\n",
      "Able to read movie?: True\n",
      "The mouse have no pupil file\n",
      "Rate of licks: ~39%\n",
      "True Positive: 0.5555555555555556\n",
      "False Positive: 0.30303030303030304\n",
      "Mouse Total Accuracy: 0.6262626262626263\n",
      "\n",
      "Mouse 2\n",
      "------------------\n",
      "Able to read movie?: True\n",
      "The mouse have no pupil file\n",
      "--Can't label the cue type\n",
      " **SKIP** \n",
      " \n",
      "Mouse 3\n",
      "------------------\n",
      "Able to read movie?: True\n",
      "The mouse have no pupil file\n",
      "Rate of licks: ~34%\n",
      "True Positive: 0.5416666666666666\n",
      "False Positive: 0.21875\n",
      "Mouse Total Accuracy: 0.6614583333333333\n",
      "\n",
      "Mouse 4\n",
      "------------------\n",
      "Able to read movie?: True\n",
      "The mouse have no pupil file\n",
      "Rate of licks: ~39%\n",
      "True Positive: 0.4857142857142857\n",
      "False Positive: 0.25925925925925924\n",
      "Mouse Total Accuracy: 0.6132275132275132\n",
      "\n",
      "Mouse 5\n",
      "------------------\n",
      "Able to read movie?: True\n",
      "The mouse have no pupil file\n",
      "Rate of licks: ~44%\n",
      "True Positive: 0.7272727272727273\n",
      "False Positive: 0.3157894736842105\n",
      "Mouse Total Accuracy: 0.7057416267942584\n",
      "\n",
      "Mouse 6\n",
      "------------------\n",
      "Able to read movie?: True\n",
      "The mouse have no pupil file\n",
      "--Can't label the cue type\n",
      " **SKIP** \n",
      " \n",
      "Mouse 7\n",
      "------------------\n",
      "Able to read movie?: True\n",
      "The mouse have no pupil file\n",
      "Rate of licks: ~50%\n",
      "True Positive: 0.7142857142857143\n",
      "False Positive: 0.3548387096774194\n",
      "Mouse Total Accuracy: 0.6797235023041475\n",
      "\n",
      "Mouse 8\n",
      "------------------\n",
      "Able to read movie?: True\n",
      "The mouse have no pupil file\n",
      "**biased licker**\n"
     ]
    }
   ],
   "source": [
    "X, y, stimuli_type = getData(dir=dir, before_q=0.5, after_q = 1.5)"
   ],
   "metadata": {
    "collapsed": false,
    "pycharm": {
     "name": "#%%\n"
    }
   }
  },
  {
   "cell_type": "code",
   "execution_count": 21,
   "outputs": [],
   "source": [
    "# smoothing\n",
    "# from scipy.signal import savgol_filter, filtfilt, ellip\n",
    "# b, a = ellip(4, 0.01, 120, 0.125)  # Filter to be applied.\n",
    "#\n",
    "# X_hat = np.zeros_like(X)\n",
    "# for i in range(X.shape[0]):\n",
    "#     X_hat[:,i] = filtfilt(b, a,X[:,i], method=\"gust\")"
   ],
   "metadata": {
    "collapsed": false,
    "pycharm": {
     "name": "#%%\n"
    }
   }
  },
  {
   "cell_type": "code",
   "execution_count": 43,
   "outputs": [],
   "source": [
    "x = X\n",
    "# add the stimuli sounds\n",
    "# moments = x[:,-20:] # take the 2 firsts moments\n",
    "#\n",
    "# x = np.zeros_like(x)\n",
    "# x = np.c_[x, stimuli_type]\n",
    "# x = np.c_[x, y]\n"
   ],
   "metadata": {
    "collapsed": false,
    "pycharm": {
     "name": "#%%\n"
    }
   }
  },
  {
   "cell_type": "code",
   "execution_count": 46,
   "outputs": [
    {
     "name": "stdout",
     "output_type": "stream",
     "text": [
      "Train accuracy: 0.6289353612167301 || STD: 0.01160904437826317\n",
      "Test accuracy: 0.5815151515151515 || STD: 0.049458964449035754\n",
      "Lick Events: ~41% \n",
      "No-lick Events: ~59%\n"
     ]
    },
    {
     "data": {
      "text/plain": "<Figure size 432x288 with 2 Axes>",
      "image/png": "[encoded data removed]"
     },
     "metadata": {
      "needs_background": "light"
     },
     "output_type": "display_data"
    }
   ],
   "source": [
    "K = 100\n",
    "acc = np.zeros([K, 2])\n",
    "\n",
    "for k in range(K):\n",
    "    # Split the data\n",
    "    X_train, X_test, y_train, y_test = train_test_split(x, y, test_size=0.2, shuffle=True)\n",
    "\n",
    "    # Feature Scaling\n",
    "    sc = StandardScaler()\n",
    "    X_train = sc.fit_transform(X_train)\n",
    "    X_test = sc.transform(X_test)\n",
    "\n",
    "    pca = PCA(n_components=10)\n",
    "    X_train = pca.fit_transform(X_train, y_train)\n",
    "    X_test = pca.transform(X_test)\n",
    "\n",
    "    # Training and Making Predictions\n",
    "    # classifier = GaussianNB()\n",
    "    classifier = svm.SVC(kernel='rbf')\n",
    "    # classifier = RandomForestClassifier(max_depth=2, random_state=0)\n",
    "\n",
    "    classifier.fit(X_train, y_train)\n",
    "\n",
    "    y_pred = classifier.predict(X_test)\n",
    "    acc[k, 0] = accuracy_score(y_test, y_pred)\n",
    "    train_pred = classifier.predict(X_train)\n",
    "    acc[k, 1] = accuracy_score(y_train, train_pred)\n",
    "\n",
    "# Evaluating the Performance\n",
    "print('Train accuracy: ' + str(np.mean(acc[:, 1])) + ' || STD: ' + str(np.std(acc[:, 1])))\n",
    "print('Test accuracy: ' + str(np.mean(acc[:, 0])) + ' || STD: ' + str(np.std(acc[:, 0])))\n",
    "\n",
    "lick_bias = y.sum()/y.shape[0] * 100\n",
    "\n",
    "print(\"Lick Events: ~\" + str(round(lick_bias)) + \"% \\nNo-lick Events: ~\" +str(round(100- lick_bias)) + \"%\")\n",
    "\n",
    "\n",
    "cm = confusion_matrix(y_test, y_pred)\n",
    "cm_display = ConfusionMatrixDisplay.from_predictions(y_test, y_pred, cmap='Greys')\n"
   ],
   "metadata": {
    "collapsed": false,
    "pycharm": {
     "name": "#%%\n"
    }
   }
  }
 ],
 "metadata": {
  "kernelspec": {
   "display_name": "Python 3",
   "language": "python",
   "name": "python3"
  },
  "language_info": {
   "codemirror_mode": {
    "name": "ipython",
    "version": 2
   },
   "file_extension": ".py",
   "mimetype": "text/x-python",
   "name": "python",
   "nbconvert_exporter": "python",
   "pygments_lexer": "ipython2",
   "version": "2.7.6"
  }
 },
 "nbformat": 4,
 "nbformat_minor": 0
}