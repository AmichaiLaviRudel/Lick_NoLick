{
 "cells": [
  {
   "cell_type": "code",
   "execution_count": 1,
   "metadata": {
    "collapsed": true,
    "pycharm": {
     "name": "#%%\n"
    }
   },
   "outputs": [],
   "source": [
    "import cv2\n",
    "import matplotlib.pyplot as plt\n",
    "import scipy.io as spio\n",
    "import os\n",
    "# import matplotlib\n",
    "# matplotlib.use('TkAgg')\n",
    "import matplotlib.pyplot as plt\n",
    "# %matplotlib ipympl# Create features data frame for a specific subject\n",
    "\n",
    "from tkinter import Tk, filedialog\n",
    "import glob\n"
   ]
  },
  {
   "cell_type": "code",
   "execution_count": 3,
   "outputs": [
    {
     "name": "stdout",
     "output_type": "stream",
     "text": [
      "Able to read movie?: True\n"
     ]
    }
   ],
   "source": [
    "\n",
    "\n",
    "root = Tk()  # pointing root to Tk() to use it as Tk() in program.\n",
    "root.withdraw()  # Hides small tkinter window.\n",
    "root.attributes('-topmost', True)  # Opened windows will be active. above all windows despite selection.\n",
    "path = filedialog.askdirectory()  # Returns opened path as str\n",
    "\n",
    "i = 0\n",
    "# Choose a folder\n",
    "dir = glob.glob(os.path.join(path, \"*\", \"\"), recursive=True)\n",
    "movs = glob.glob(os.path.join(dir[i] + \"/*.avi\"))\n",
    "vidcap = cv2.VideoCapture(movs[0])\n",
    "success, img = vidcap.read()\n",
    "print(\"Able to read movie?: \" + str(success))"
   ],
   "metadata": {
    "collapsed": false,
    "pycharm": {
     "name": "#%%\n"
    }
   }
  },
  {
   "cell_type": "code",
   "execution_count": null,
   "outputs": [],
   "source": [
    "\n",
    "ret,thresh2 = cv2.threshold(img,127,255,cv2.THRESH_BINARY_INV)\n",
    "plt.imshow(thresh2)"
   ],
   "metadata": {
    "collapsed": false,
    "pycharm": {
     "name": "#%%\n"
    }
   }
  },
  {
   "cell_type": "code",
   "execution_count": null,
   "outputs": [],
   "source": [
    "import cv2\n",
    "\n",
    "def Life2CodingRGB(event, x, y, flags, param):\n",
    "    if event == cv2.EVENT_MOUSEMOVE :  # checks mouse moves\n",
    "        colorsBGR = image[y, x]\n",
    "        colorsRGB=tuple(reversed(colorsBGR)) #Reversing the OpenCV BGR format to RGB format\n",
    "        print(\"RGB Value at ({},{}):{} \".format(x,y,colorsRGB))\n",
    "# Read an image\n",
    "image = img\n",
    "# Create a window and set Mousecallback to a function for that window\n",
    "cv2.namedWindow('Life2CodingRGB')\n",
    "cv2.setMouseCallback('Life2CodingRGB', Life2CodingRGB)\n",
    "# Do until esc pressed\n",
    "while (1):\n",
    "    plt.imshow(image)\n",
    "    if cv2.waitKey(10) & 0xFF == 27:\n",
    "        break\n",
    "# if esc is pressed, close all windows.\n",
    "cv2.destroyAllWindows()"
   ],
   "metadata": {
    "collapsed": false,
    "pycharm": {
     "name": "#%%\n",
     "is_executing": true
    }
   }
  }
 ],
 "metadata": {
  "kernelspec": {
   "display_name": "Python 3",
   "language": "python",
   "name": "python3"
  },
  "language_info": {
   "codemirror_mode": {
    "name": "ipython",
    "version": 2
   },
   "file_extension": ".py",
   "mimetype": "text/x-python",
   "name": "python",
   "nbconvert_exporter": "python",
   "pygments_lexer": "ipython2",
   "version": "2.7.6"
  }
 },
 "nbformat": 4,
 "nbformat_minor": 0
}